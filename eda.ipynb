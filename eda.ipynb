{
 "cells": [
  {
   "cell_type": "markdown",
   "metadata": {},
   "source": [
    "Eploratory Data Analysis\n",
    "\n",
    "1) Data contains the following attributes which can be used as a potential feature for the model\n",
    "    - ID\n",
    "    - Call Duration\n",
    "    - Call Frequency\n",
    "    - Financial Loss\n",
    "    - Flagged by Carrier\n",
    "    - Is International\n",
    "    - Previous Contact Count\n",
    "    - Country Prefix\n",
    "    - Call Type\n",
    "    - Timestamp\n",
    "    - Device Battery\n",
    "    - Scam Call"
   ]
  },
  {
   "cell_type": "code",
   "execution_count": 10,
   "metadata": {},
   "outputs": [],
   "source": [
    "import pandas as pd\n",
    "from sqlalchemy import create_engine"
   ]
  },
  {
   "cell_type": "markdown",
   "metadata": {},
   "source": [
    "Data Inspection"
   ]
  },
  {
   "cell_type": "code",
   "execution_count": 11,
   "metadata": {},
   "outputs": [
    {
     "name": "stdout",
     "output_type": "stream",
     "text": [
      "       ID  Call Duration  Call Frequency  Financial Loss Flagged by Carrier  \\\n",
      "0  947429           -719              12       42.130000         Suspicious   \n",
      "1  540498            116               3       29.900000           Unlikely   \n",
      "2  434243             29              16      723.460000    Very Suspicious   \n",
      "3  903537           -563               4       64.287478           Unlikely   \n",
      "4  969179            312              19        0.000000           Unlikely   \n",
      "\n",
      "  Is International  Previous Contact Count Country Prefix Call Type  \\\n",
      "0              Yes                       1             95      Voip   \n",
      "1              Yes                       0             91    Mobile   \n",
      "2              Yes                       2             91      Voip   \n",
      "3              Yes                       3             91  Telegram   \n",
      "4              Yes                       0             91  Telegram   \n",
      "\n",
      "             Timestamp Device Battery Scam Call  \n",
      "0  2023-07-23 09:04:00  Fully Charged      Scam  \n",
      "1  2023-09-05 20:11:00  Fully Charged      Scam  \n",
      "2  2023-12-16 11:03:00       Charging      Scam  \n",
      "3  2023-02-25 10:41:00  Fully Charged  Not Scam  \n",
      "4  2023-11-10 15:53:00  Fully Charged      Scam  \n"
     ]
    }
   ],
   "source": [
    "# query the database using sqlalchemy\n",
    "\n",
    "engine = create_engine('sqlite:///data/calls.db')\n",
    "df = pd.read_sql_query(\"SELECT * FROM calls\", engine)\n",
    "print(df.head())"
   ]
  },
  {
   "cell_type": "code",
   "execution_count": 12,
   "metadata": {},
   "outputs": [
    {
     "name": "stdout",
     "output_type": "stream",
     "text": [
      "<class 'pandas.core.frame.DataFrame'>\n",
      "RangeIndex: 12000 entries, 0 to 11999\n",
      "Data columns (total 12 columns):\n",
      " #   Column                  Non-Null Count  Dtype  \n",
      "---  ------                  --------------  -----  \n",
      " 0   ID                      12000 non-null  int64  \n",
      " 1   Call Duration           12000 non-null  int64  \n",
      " 2   Call Frequency          12000 non-null  int64  \n",
      " 3   Financial Loss          10597 non-null  float64\n",
      " 4   Flagged by Carrier      12000 non-null  object \n",
      " 5   Is International        12000 non-null  object \n",
      " 6   Previous Contact Count  12000 non-null  int64  \n",
      " 7   Country Prefix          12000 non-null  object \n",
      " 8   Call Type               12000 non-null  object \n",
      " 9   Timestamp               12000 non-null  object \n",
      " 10  Device Battery          12000 non-null  object \n",
      " 11  Scam Call               12000 non-null  object \n",
      "dtypes: float64(1), int64(4), object(7)\n",
      "memory usage: 1.1+ MB\n",
      "None\n",
      "                  ID  Call Duration  Call Frequency  Financial Loss  \\\n",
      "count   12000.000000   12000.000000    12000.000000    10597.000000   \n",
      "mean   551248.413500     100.259417       10.698167       95.128864   \n",
      "std    257920.330881     288.006415        5.861791      191.516365   \n",
      "min    100017.000000    -787.000000        2.000000     -896.400000   \n",
      "25%    332326.250000     -30.000000        6.000000        0.000000   \n",
      "50%    545820.000000      45.000000        9.000000       11.719081   \n",
      "75%    776049.250000     282.000000       15.000000       84.264405   \n",
      "max    999709.000000     822.000000       27.000000     1055.440000   \n",
      "\n",
      "       Previous Contact Count  \n",
      "count            12000.000000  \n",
      "mean                 1.861167  \n",
      "std                  1.765310  \n",
      "min                  0.000000  \n",
      "25%                  0.000000  \n",
      "50%                  2.000000  \n",
      "75%                  3.000000  \n",
      "max                  8.000000  \n"
     ]
    }
   ],
   "source": [
    "# inspection of the data\n",
    "print(df.info())\n",
    "print(df.describe())"
   ]
  },
  {
   "cell_type": "code",
   "execution_count": null,
   "metadata": {},
   "outputs": [],
   "source": []
  }
 ],
 "metadata": {
  "kernelspec": {
   "display_name": "Python 3",
   "language": "python",
   "name": "python3"
  },
  "language_info": {
   "codemirror_mode": {
    "name": "ipython",
    "version": 3
   },
   "file_extension": ".py",
   "mimetype": "text/x-python",
   "name": "python",
   "nbconvert_exporter": "python",
   "pygments_lexer": "ipython3",
   "version": "3.11.0"
  }
 },
 "nbformat": 4,
 "nbformat_minor": 2
}
